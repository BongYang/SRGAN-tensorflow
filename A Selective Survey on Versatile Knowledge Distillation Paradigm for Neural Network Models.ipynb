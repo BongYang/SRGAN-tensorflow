{
 "cells": [
  {
   "cell_type": "markdown",
   "metadata": {},
   "source": [
    "# A Selective Survey on Versatile Knowledge Distillation Paradigm for Neural Network Models"
   ]
  },
  {
   "cell_type": "markdown",
   "metadata": {},
   "source": [
    "## Content\n",
    "\n",
    "- ### Section II - Distilled knowledge, Loss, Teacher-Student Architecture, Distillation process   \n",
    "   \n",
    "- ### Section III - Versatile KD - Vision, NLP, Quantization and so on..   \n",
    "   \n",
    "- ### Section IV - Supervised, Weakly Supervised, Semi/Un-Supervised Learning   \n",
    "    \n",
    "- ### Section V -    \n",
    "   \n",
    "- ### Section VI - Future Works\n"
   ]
  },
  {
   "cell_type": "markdown",
   "metadata": {},
   "source": []
  },
  {
   "cell_type": "markdown",
   "metadata": {},
   "source": []
  },
  {
   "cell_type": "markdown",
   "metadata": {},
   "source": []
  },
  {
   "cell_type": "markdown",
   "metadata": {},
   "source": []
  }
 ],
 "metadata": {
  "language_info": {
   "name": "python"
  },
  "orig_nbformat": 4
 },
 "nbformat": 4,
 "nbformat_minor": 2
}
