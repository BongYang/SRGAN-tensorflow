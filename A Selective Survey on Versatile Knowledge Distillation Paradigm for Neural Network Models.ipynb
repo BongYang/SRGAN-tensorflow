{
 "cells": [
  {
   "cell_type": "markdown",
   "metadata": {},
   "source": [
    "# A Selective Survey on Versatile Knowledge Distillation Paradigm for Neural Network Models"
   ]
  },
  {
   "cell_type": "markdown",
   "metadata": {},
   "source": [
    "## Content\n",
    "\n",
    "- ### Section II - Distilled knowledge, Loss, Teacher-Student Architecture, Distillation process   \n",
    "   \n",
    "- ### Section III - Versatile KD - Vision, NLP, Quantization and so on..   \n",
    "   \n",
    "- ### Section IV - Supervised, Weakly Supervised, Semi/Un-Supervised Learning   \n",
    "    \n",
    "- ### Section V -    \n",
    "   \n",
    "- ### Section VI - Future Works\n"
   ]
  },
  {
   "cell_type": "markdown",
   "metadata": {},
   "source": [
    "## Section II\n",
    "\n",
    "___Intial Works___\n",
    "C.bucilua - 개념 처음으로 제안 Knowledge Transfer for compression\n",
    "Hiton - KD 개념 대중화 - 더 일반적 Case + temparature 개념 + Classification Task\n",
    "\n",
    "\n",
    "그러나 KD의 성공에도 불구하고 Deep Neural Network에서 Teacher의 Knowledge가 어디에 존재하는지 or 그 Knowledge를 Capture하는 Optimal method는 여전히 의문으로 남아있음\n",
    "\n",
    "\n",
    "\n"
   ]
  },
  {
   "cell_type": "markdown",
   "metadata": {},
   "source": []
  },
  {
   "cell_type": "markdown",
   "metadata": {},
   "source": []
  },
  {
   "cell_type": "markdown",
   "metadata": {},
   "source": []
  }
 ],
 "metadata": {
  "language_info": {
   "name": "python"
  },
  "orig_nbformat": 4
 },
 "nbformat": 4,
 "nbformat_minor": 2
}
