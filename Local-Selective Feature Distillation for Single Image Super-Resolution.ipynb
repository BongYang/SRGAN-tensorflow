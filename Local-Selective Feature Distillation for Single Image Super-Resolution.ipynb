{
 "cells": [
  {
   "cell_type": "markdown",
   "metadata": {},
   "source": [
    "# Local-Selective Feature Distillation for Single Image Super-Resolution"
   ]
  },
  {
   "cell_type": "markdown",
   "metadata": {},
   "source": [
    "## Abstract\n",
    "\n",
    "Feature Distillation이 KD를 다른 Task에 효과적으로 적용하도록 했으나,\n",
    "Singel Image Super Resolution task에 Feature distillation을 적용시키는 것이 어려움"
   ]
  },
  {
   "cell_type": "markdown",
   "metadata": {},
   "source": []
  }
 ],
 "metadata": {
  "language_info": {
   "name": "python"
  },
  "orig_nbformat": 4
 },
 "nbformat": 4,
 "nbformat_minor": 2
}
