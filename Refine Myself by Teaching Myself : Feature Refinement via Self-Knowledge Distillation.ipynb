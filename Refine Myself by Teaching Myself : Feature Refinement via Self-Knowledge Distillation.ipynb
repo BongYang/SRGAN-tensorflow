{
 "cells": [
  {
   "cell_type": "markdown",
   "metadata": {},
   "source": [
    "# Refine Myself by Teaching Myself : Feature Refinement via Self-Knowledge Distillation\n",
    "\n",
    "### Mingi Ji, Seungjae Shin, Seunghyun Hwang, Gibeom Park, Il-Chul Moon (KAIST) "
   ]
  },
  {
   "cell_type": "markdown",
   "metadata": {},
   "source": [
    "### Abstract\n",
    "\n",
    "#### Knowledge distillationd이란? \n",
    "    Pre-train된 Teacher(용량이 큰 모델)의 Knowledge를 student(용량을 줄인 모델)로 transfer하는 방법이다\n",
    "\n",
    "#### 그 중 Self knowledge distillation이란?\n",
    "    Student를 teacher없이 점진적으로 distillation하는 방법이다\n",
    "\n",
    "\n",
    "    Self knowledge distillation에는 Data augmentation based approach와 auxiliary self network based approach가 존재한다"
   ]
  },
  {
   "cell_type": "markdown",
   "metadata": {},
   "source": [
    "#### 1. Data augmentation based approach\n",
    "    하나의 데이터 인스턴스에 서로 다른 Augmentation을 적용하여 같은 network를 통과시켜 그 두개의 Output을 같게 하는 방식으로 Self distillation을 수행한다\n",
    "\n",
    "    단점 : Augmentation과정에서 local information이 줄어든다\n",
    "          다양한 Vision Task에 적용이 어렵다\n",
    "          Refined feature map을 받지 못한다. (Object detection과 Semantic segmentation에서는 refined feature map이 중요하다)\n",
    "      \n",
    "#### 2. auxiliary network based approach\n",
    "    Classifier network 중간에 추가적인 Branch를 두어 그 Branch에서 나온 결과가 같아지도록 Knowledge distillation을 수행\n",
    "\n",
    "    단점 : Auxiliary network에 의존한다.\n",
    "          Refined knowledge를 생성하기 힘들다."
   ]
  },
  {
   "cell_type": "code",
   "execution_count": null,
   "metadata": {},
   "outputs": [],
   "source": []
  },
  {
   "cell_type": "code",
   "execution_count": null,
   "metadata": {},
   "outputs": [],
   "source": []
  },
  {
   "cell_type": "markdown",
   "metadata": {},
   "source": [
    "### Introduction"
   ]
  },
  {
   "cell_type": "markdown",
   "metadata": {},
   "source": [
    "### Main Idea"
   ]
  },
  {
   "cell_type": "markdown",
   "metadata": {},
   "source": []
  }
 ],
 "metadata": {
  "language_info": {
   "name": "python"
  },
  "orig_nbformat": 4
 },
 "nbformat": 4,
 "nbformat_minor": 2
}
